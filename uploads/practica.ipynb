{
 "cells": [
  {
   "cell_type": "markdown",
   "metadata": {},
   "source": [
    "# Paso 1: Cargar los archivos Excel\n",
    "Utilizaremos `pandas` para cargar ambos archivos Excel."
   ]
  },
  {
   "cell_type": "code",
   "execution_count": 6,
   "metadata": {},
   "outputs": [
    {
     "name": "stdout",
     "output_type": "stream",
     "text": [
      "   Credencial  Apellido           Nombre Destino Delegacion\n",
      "0       23411   NANCUAN    VICTOR ADRIAN      DN         DA\n",
      "1       24078   MAIDANA          ROBERTO      34         34\n",
      "2       25186     TULLO  LILIANA ANTONIA      DN         DA\n",
      "3       27323  CEVALLOS  MARIA MAGDALENA       2          2\n",
      "4       27534  GONZALEZ   SANDRA FABIANA      13         13\n",
      "  Unid     Cred Apellido y Nombres  Cuota de Mes Fecha de Operación   Factura  \\\n",
      "0  U19  36051.0   MATIAS FERNANDEZ        1272.0         2024-03-18   50184.0   \n",
      "1  U19  37213.0    JESICA VILLAGRA        1344.0         2024-03-20   50185.0   \n",
      "2  U19  47512.0    ELIANA AYZAGUER        1208.0         2024-03-20   50186.0   \n",
      "3  U19  37038.0     VALERIA BOGADO        1320.0         2024-03-20   50187.0   \n",
      "4  U19  42360.0  DARIO HUENTEMILLA        3272.0         2024-03-20   50188.0   \n",
      "\n",
      "   Monto Total   Remito  Cuota Computada  Cuota Nº Detalle de la compra  \\\n",
      "0       1272.0      NaN              1.0       1.0       QUESO PATEGRAS   \n",
      "1       1344.0      NaN              1.0       1.0       QUESO PATEGRAS   \n",
      "2       1208.0      NaN              1.0       1.0       QUESO PATEGRAS   \n",
      "3       1320.0      NaN              1.0       1.0       QUESO PATEGRAS   \n",
      "4       3272.0      NaN              1.0       1.0       QUESO PATEGRAS   \n",
      "\n",
      "   Observaciones  validacion de credencial  \n",
      "0            NaN                   24852.0  \n",
      "1            NaN                   72593.0  \n",
      "2            NaN                   66951.0  \n",
      "3            NaN                   62173.0  \n",
      "4            NaN                   66666.0  \n"
     ]
    },
    {
     "name": "stderr",
     "output_type": "stream",
     "text": [
      "c:\\Python312\\Lib\\site-packages\\openpyxl\\worksheet\\_reader.py:329: UserWarning: Data Validation extension is not supported and will be removed\n",
      "  warn(msg)\n"
     ]
    }
   ],
   "source": [
    "import pandas as pd\n",
    "\n",
    "# Cargar los archivos Excel\n",
    "padron_df = pd.read_excel('PADRON ACTIVIDAD 21-05-24.xlsx')\n",
    "rendicion_df = pd.read_excel('RENDICON VENTAS COD608 P05-24 (1).xlsx', skiprows=7)\n",
    "\n",
    "# Mostrar una vista preliminar de los datos\n",
    "print(padron_df.head())\n",
    "print(rendicion_df.head())"
   ]
  },
  {
   "cell_type": "markdown",
   "metadata": {},
   "source": [
    "# Paso 2: Normalizar los nombres de las columnas y unir \"Apellido\" y \"Nombre\"\n",
    "Vamos a unir las columnas \"Apellido\" y \"Nombre\" en `padron_df` para que coincidan con el formato del segundo archivo, y luego renombramos la columna combinada."
   ]
  },
  {
   "cell_type": "code",
   "execution_count": 2,
   "metadata": {},
   "outputs": [
    {
     "name": "stdout",
     "output_type": "stream",
     "text": [
      "    Cred Destino Delegacion        Apellido y Nombres\n",
      "0  23411      DN         DA     NANCUAN VICTOR ADRIAN\n",
      "1  24078      34         34           MAIDANA ROBERTO\n",
      "2  25186      DN         DA     TULLO LILIANA ANTONIA\n",
      "3  27323       2          2  CEVALLOS MARIA MAGDALENA\n",
      "4  27534      13         13   GONZALEZ SANDRA FABIANA\n",
      "  Unid     Cred Apellido y Nombres  Cuota de Mes Fecha de Operación   Factura  \\\n",
      "0  U19  36051.0   MATIAS FERNANDEZ        1272.0         2024-03-18   50184.0   \n",
      "1  U19  37213.0    JESICA VILLAGRA        1344.0         2024-03-20   50185.0   \n",
      "2  U19  47512.0    ELIANA AYZAGUER        1208.0         2024-03-20   50186.0   \n",
      "3  U19  37038.0     VALERIA BOGADO        1320.0         2024-03-20   50187.0   \n",
      "4  U19  42360.0  DARIO HUENTEMILLA        3272.0         2024-03-20   50188.0   \n",
      "\n",
      "   Monto Total   Remito  Cuota Computada  Cuota Nº Detalle de la compra  \\\n",
      "0       1272.0      NaN              1.0       1.0       QUESO PATEGRAS   \n",
      "1       1344.0      NaN              1.0       1.0       QUESO PATEGRAS   \n",
      "2       1208.0      NaN              1.0       1.0       QUESO PATEGRAS   \n",
      "3       1320.0      NaN              1.0       1.0       QUESO PATEGRAS   \n",
      "4       3272.0      NaN              1.0       1.0       QUESO PATEGRAS   \n",
      "\n",
      "   Observaciones  validacion de credencial  \n",
      "0            NaN                   24852.0  \n",
      "1            NaN                   72593.0  \n",
      "2            NaN                   66951.0  \n",
      "3            NaN                   62173.0  \n",
      "4            NaN                   66666.0  \n"
     ]
    }
   ],
   "source": [
    "# Unir \"Apellido\" y \"Nombre\" en una sola columna\n",
    "padron_df['Apellido y Nombres'] = padron_df['Apellido'] + ' ' + padron_df['Nombre']\n",
    "\n",
    "# Renombrar columnas en ambos DataFrames para asegurar consistencia\n",
    "padron_df = padron_df.rename(columns={'Credencial': 'Cred'})\n",
    "rendicion_df = rendicion_df.rename(columns={'Cred': 'Cred', 'Apellido y Nombres': 'Apellido y Nombres'})\n",
    "\n",
    "# Eliminar las columnas originales \"Apellido\" y \"Nombre\" ya que ya están combinadas\n",
    "padron_df = padron_df.drop(columns=['Apellido', 'Nombre'])\n",
    "\n",
    "# Mostrar una vista preliminar para confirmar\n",
    "print(padron_df.head())\n",
    "print(rendicion_df.head())"
   ]
  },
  {
   "cell_type": "markdown",
   "metadata": {},
   "source": [
    "# Paso 3: Comparar los datos entre los DataFrames\n",
    "Recorreremos el segundo Excel (`rendicion_df`) y verificaremos si la `Cred` y `Apellido y Nombres` coinciden con los datos del primer Excel (`padron_df`).\n"
   ]
  },
  {
   "cell_type": "code",
   "execution_count": 3,
   "metadata": {},
   "outputs": [
    {
     "name": "stdout",
     "output_type": "stream",
     "text": [
      "      Cred Apellido y Nombres Validación\n",
      "0  36051.0   MATIAS FERNANDEZ   Correcto\n",
      "1  37213.0    JESICA VILLAGRA   Correcto\n",
      "2  47512.0    ELIANA AYZAGUER   Correcto\n",
      "3  37038.0     VALERIA BOGADO   Correcto\n",
      "4  42360.0  DARIO HUENTEMILLA   Correcto\n"
     ]
    }
   ],
   "source": [
    "# Crear una nueva columna en rendicion_df para indicar si la fila es correcta o tiene errores\n",
    "rendicion_df['Validación'] = 'Error'\n",
    "\n",
    "# Función para validar si la credencial y el nombre completo existen en padron_df\n",
    "def validar_fila(row):\n",
    "    # Buscar si la credencial y el nombre coinciden en padron_df\n",
    "    # padron_fila = padron_df[(padron_df['Cred'] == row['Cred']) & \n",
    "    #                         (padron_df['Apellido y Nombres'] == row['Apellido y Nombres'])]\n",
    "    padron_fila = padron_df[(padron_df['Cred'] == row['Cred'])] \n",
    "                            # (padron_df['Apellido y Nombres'] == row['Apellido y Nombres'])]\n",
    "    # Si hay coincidencia, marcar como \"Correcto\"\n",
    "    if not padron_fila.empty:\n",
    "        return 'Correcto'\n",
    "    # Si no hay coincidencia, marcar como \"Error\"\n",
    "    return 'Error'\n",
    "\n",
    "# Aplicar la validación a cada fila de rendicion_df\n",
    "rendicion_df['Validación'] = rendicion_df.apply(validar_fila, axis=1)\n",
    "\n",
    "# Mostrar una vista previa para verificar el resultado\n",
    "print(rendicion_df[['Cred', 'Apellido y Nombres', 'Validación']].head())"
   ]
  },
  {
   "cell_type": "markdown",
   "metadata": {},
   "source": [
    "# Paso 4: Guardar el archivo con la validación\n",
    "Guardamos el archivo resultante con la nueva columna \"Validación\" que indica si cada fila es correcta o contiene errores.\n"
   ]
  },
  {
   "cell_type": "code",
   "execution_count": 5,
   "metadata": {},
   "outputs": [
    {
     "name": "stdout",
     "output_type": "stream",
     "text": [
      "Archivo guardado en: RENDICON VENTAS COD608 P05-24 (CONTROLADO).xlsx\n"
     ]
    }
   ],
   "source": [
    "# Definir el nombre del archivo de salida\n",
    "output_path = 'RENDICON VENTAS COD608 P05-24 (CONTROLADO).xlsx'\n",
    "\n",
    "# Guardar el resultado en un archivo Excel\n",
    "rendicion_df.to_excel(output_path, index=False)\n",
    "\n",
    "# Confirmar que el archivo fue guardado\n",
    "print(f'Archivo guardado en: {output_path}')"
   ]
  }
 ],
 "metadata": {
  "kernelspec": {
   "display_name": "Python 3",
   "language": "python",
   "name": "python3"
  },
  "language_info": {
   "codemirror_mode": {
    "name": "ipython",
    "version": 3
   },
   "file_extension": ".py",
   "mimetype": "text/x-python",
   "name": "python",
   "nbconvert_exporter": "python",
   "pygments_lexer": "ipython3",
   "version": "3.12.4"
  }
 },
 "nbformat": 4,
 "nbformat_minor": 2
}
